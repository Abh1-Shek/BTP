{
 "cells": [
  {
   "cell_type": "code",
   "execution_count": 12,
   "metadata": {},
   "outputs": [],
   "source": [
    "from tensorflow.keras.models import Sequential\n",
    "from tensorflow.keras.layers import Dense, Dropout, LSTM\n",
    "from sklearn.preprocessing import MinMaxScaler\n",
    "import numpy as np\n",
    "import matplotlib.pyplot as plt\n",
    "import pandas as pd"
   ]
  },
  {
   "cell_type": "code",
   "execution_count": 2,
   "metadata": {},
   "outputs": [],
   "source": [
    "df_ind = pd.read_csv('india.csv')"
   ]
  },
  {
   "cell_type": "code",
   "execution_count": 3,
   "metadata": {},
   "outputs": [],
   "source": [
    "def gaussian_distribution(x, std, mean):\n",
    "    return (1/(std*math.sqrt(2*math.pi)))*math.exp((-1/2)*((x-mean)/std)**2)"
   ]
  },
  {
   "cell_type": "code",
   "execution_count": 4,
   "metadata": {},
   "outputs": [
    {
     "data": {
      "image/png": "[encoded data removed]",
      "text/plain": [
       "<Figure size 432x288 with 1 Axes>"
      ]
     },
     "metadata": {
      "needs_background": "light"
     },
     "output_type": "display_data"
    }
   ],
   "source": [
    "# Here we have assumed a wave will get over in 4 * std amount of time, since we assumed a wave\n",
    "# will be over in 200 days we have considered 50 as std\n",
    "gdist = [gaussian_distribution(i, 50, 200) for i in range(0, 400)]\n",
    "\n",
    "plt.plot(gdist)\n",
    "df = np.array(gdist)"
   ]
  },
  {
   "cell_type": "code",
   "execution_count": 5,
   "metadata": {},
   "outputs": [],
   "source": [
    "scaler = MinMaxScaler(feature_range=(0, 1))\n",
    "\n",
    "df_ma = df_ind['new_cases'].values\n",
    "period = 15\n",
    "\n",
    "for i in range(period, len(df_ind['new_cases'].values)):\n",
    "    ma = 0\n",
    "    for j in range(i - period + 1, i + 1):\n",
    "        ma += df_ind['new_cases'].values[j]\n",
    "    df_ma[i] = ma / period\n",
    "\n",
    "scaled_data = scaler.fit_transform(df_ma.reshape(-1, 1)) #reshape for (n, ) to (n, 1)\n",
    "\n",
    "\n",
    "look_back = 125\n",
    "prediction_days = 500\n",
    "\n",
    "x_train, y_train = [], []\n",
    "\n",
    "for x in range(look_back, len(scaled_data) - prediction_days):\n",
    "  x_train.append(scaled_data[x - look_back: x, 0])\n",
    "  y_train.append(scaled_data[x, 0])\n",
    "    \n",
    "x_train, y_train = np.array(x_train), np.array(y_train)\n",
    "\n",
    "x_train = np.reshape(x_train, (x_train.shape[0], x_train.shape[1], 1))"
   ]
  },
  {
   "cell_type": "code",
   "execution_count": 6,
   "metadata": {},
   "outputs": [],
   "source": [
    "model = Sequential()\n",
    "\n",
    "model.add(LSTM(units = 50, return_sequences=True, input_shape = (x_train.shape[1], 1)))\n",
    "model.add(Dropout(0.2))\n",
    "model.add(LSTM(units = 50, return_sequences=True))\n",
    "model.add(Dropout(0.2))\n",
    "model.add(LSTM(units = 50))\n",
    "model.add(Dropout(0.2))\n",
    "model.add(Dense(units = 1))  #our predictions\n",
    "model.compile(optimizer = 'adam', loss = 'mean_squared_error')"
   ]
  },
  {
   "cell_type": "code",
   "execution_count": 7,
   "metadata": {},
   "outputs": [
    {
     "name": "stdout",
     "output_type": "stream",
     "text": [
      "Epoch 1/20\n",
      "12/12 [==============================] - 11s 78ms/step - loss: 0.0994\n",
      "Epoch 2/20\n",
      "12/12 [==============================] - 1s 75ms/step - loss: 0.0222\n",
      "Epoch 3/20\n",
      "12/12 [==============================] - 1s 74ms/step - loss: 0.0140\n",
      "Epoch 4/20\n",
      "12/12 [==============================] - 1s 76ms/step - loss: 0.0103\n",
      "Epoch 5/20\n",
      "12/12 [==============================] - 1s 74ms/step - loss: 0.0082\n",
      "Epoch 6/20\n",
      "12/12 [==============================] - 1s 75ms/step - loss: 0.0068\n",
      "Epoch 7/20\n",
      "12/12 [==============================] - 1s 75ms/step - loss: 0.0071\n",
      "Epoch 8/20\n",
      "12/12 [==============================] - 1s 75ms/step - loss: 0.0056\n",
      "Epoch 9/20\n",
      "12/12 [==============================] - 1s 77ms/step - loss: 0.0048\n",
      "Epoch 10/20\n",
      "12/12 [==============================] - 1s 77ms/step - loss: 0.0041\n",
      "Epoch 11/20\n",
      "12/12 [==============================] - 1s 78ms/step - loss: 0.0058\n",
      "Epoch 12/20\n",
      "12/12 [==============================] - 1s 74ms/step - loss: 0.0042\n",
      "Epoch 13/20\n",
      "12/12 [==============================] - 1s 75ms/step - loss: 0.0033\n",
      "Epoch 14/20\n",
      "12/12 [==============================] - 1s 76ms/step - loss: 0.0028\n",
      "Epoch 15/20\n",
      "12/12 [==============================] - 1s 77ms/step - loss: 0.0024\n",
      "Epoch 16/20\n",
      "12/12 [==============================] - 1s 74ms/step - loss: 0.0025\n",
      "Epoch 17/20\n",
      "12/12 [==============================] - 1s 75ms/step - loss: 0.0044\n",
      "Epoch 18/20\n",
      "12/12 [==============================] - 1s 74ms/step - loss: 0.0033\n",
      "Epoch 19/20\n",
      "12/12 [==============================] - 1s 74ms/step - loss: 0.0024\n",
      "Epoch 20/20\n",
      "12/12 [==============================] - 1s 74ms/step - loss: 0.0022\n"
     ]
    },
    {
     "data": {
      "text/plain": [
       "<keras.callbacks.History at 0x266b2519cc8>"
      ]
     },
     "execution_count": 7,
     "metadata": {},
     "output_type": "execute_result"
    }
   ],
   "source": [
    "model.fit(x_train, y_train, epochs = 20, batch_size = 32)"
   ]
  },
  {
   "cell_type": "code",
   "execution_count": 8,
   "metadata": {},
   "outputs": [],
   "source": [
    "last = x_train[len(scaled_data) - prediction_days - look_back - 1]\n",
    "x_test = np.array([last])\n",
    "ys = []\n",
    "for i in range(0, prediction_days):\n",
    "    ysi = model.predict(x_test)[0]\n",
    "    ys.append(np.array([max(0, ysi[0])]))\n",
    "    x_test = np.array([np.concatenate((last[1:], [ys[-1]]))])\n",
    "    last = x_test[0]"
   ]
  },
  {
   "cell_type": "code",
   "execution_count": 9,
   "metadata": {},
   "outputs": [],
   "source": [
    "predicted_cases = scaler.inverse_transform(ys)\n",
    "pred = np.concatenate((df_ma[:len(scaled_data)-prediction_days], predicted_cases.reshape(-1,)))"
   ]
  },
  {
   "cell_type": "code",
   "execution_count": 11,
   "metadata": {},
   "outputs": [
    {
     "data": {
      "image/png": "[encoded data removed]",
      "text/plain": [
       "<Figure size 432x288 with 1 Axes>"
      ]
     },
     "metadata": {
      "needs_background": "light"
     },
     "output_type": "display_data"
    }
   ],
   "source": [
    "plt.figure()\n",
    "plt.plot(df_ma[-prediction_days:], label=\"actual\")\n",
    "plt.plot(predicted_cases, label=\"predicted\")\n",
    "plt.legend()"
   ]
  },
  {
   "cell_type": "code",
   "execution_count": null,
   "metadata": {},
   "outputs": [],
   "source": []
  }
 ],
 "metadata": {
  "kernelspec": {
   "display_name": "'Python Interactive'",
   "language": "python",
   "name": "52c418bc-bd7d-4061-b6a2-3b59f32782e1"
  },
  "language_info": {
   "codemirror_mode": {
    "name": "ipython",
    "version": 3
   },
   "file_extension": ".py",
   "mimetype": "text/x-python",
   "name": "python",
   "nbconvert_exporter": "python",
   "pygments_lexer": "ipython3",
   "version": "3.7.4"
  }
 },
 "nbformat": 4,
 "nbformat_minor": 2
}
